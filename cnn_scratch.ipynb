{
  "cells": [
    {
      "cell_type": "code",
      "execution_count": 22,
      "metadata": {
        "colab": {
          "base_uri": "https://localhost:8080/"
        },
        "id": "o45Fs-3B5TDo",
        "outputId": "7c617951-7831-4166-f933-6ccada7e40fd"
      },
      "outputs": [],
      "source": [
        "from sklearn.metrics import confusion_matrix\n",
        "import numpy as np\n",
        "from sklearn.model_selection import KFold\n",
        "import matplotlib.pyplot as plt\n",
        "from sklearn.utils import shuffle\n",
        "from tqdm import tqdm\n",
        "import pandas as pd\n",
        "from tensorflow.keras.datasets import mnist # type: ignore"
      ]
    },
    {
      "cell_type": "code",
      "execution_count": 23,
      "metadata": {},
      "outputs": [],
      "source": [
        "from ucimlrepo import fetch_ucirepo \n",
        "  \n",
        "# fetch dataset \n",
        "optical_recognition_of_handwritten_digits = fetch_ucirepo(id=80) \n",
        "  \n",
        "# data (as pandas dataframes) \n",
        "X = optical_recognition_of_handwritten_digits.data.features.to_numpy()\n",
        "y = optical_recognition_of_handwritten_digits.data.targets.to_numpy() \n"
      ]
    },
    {
      "cell_type": "code",
      "execution_count": 24,
      "metadata": {},
      "outputs": [],
      "source": [
        "from sklearn.model_selection import train_test_split\n",
        "from keras.utils import to_categorical\n",
        "from sklearn.preprocessing import MinMaxScaler\n",
        "\n",
        "# Split the dataset into training and testing sets\n",
        "X_train, X_test, y_train, y_test = train_test_split(X, y, test_size=0.2, random_state=42)\n",
        "\n",
        "# Reshape the data to fit the model\n",
        "X_train = X_train.reshape(-1, 8, 8, 1)\n",
        "X_test = X_test.reshape(-1, 8, 8, 1)\n",
        "\n",
        "# Convert y to one-hot encoding\n",
        "y_train = to_categorical(y_train)\n",
        "y_test = to_categorical(y_test)\n",
        "\n",
        "# Normalization data for CNN\n",
        "scaler = MinMaxScaler()\n",
        "X_normalized = scaler.fit_transform(X_train.reshape(-1, 64))  # Reshape for MinMaxScaler\n",
        "X_train = X_normalized.reshape(-1, 8, 8, 1)"
      ]
    },
    {
      "cell_type": "code",
      "execution_count": 25,
      "metadata": {
        "id": "832Ayh-55TDx"
      },
      "outputs": [],
      "source": [
        "def relu(x):\n",
        "    return np.maximum(0, x)\n",
        "\n",
        "class Conv3x3:\n",
        "    '''\n",
        "        A Convolution layer using 3x3 filters.\n",
        "    '''\n",
        "\n",
        "    def __init__(self, num_filters, filter_size, input_depth):\n",
        "        self.num_filters = num_filters\n",
        "        self.filter_size = filter_size\n",
        "        self.filters = np.random.randn(num_filters, filter_size, filter_size, input_depth) * np.sqrt(2/(filter_size*filter_size*input_depth))\n",
        "\n",
        "    def iterate_regions(self, image):\n",
        "        '''\n",
        "        Generates all possible 3x3 image regions using valid padding.\n",
        "        - image is a 2d or 3d numpy array.\n",
        "        '''\n",
        "        h, w, _ = image.shape\n",
        "\n",
        "        for i in range(h - 2):\n",
        "            for j in range(w - 2):\n",
        "                im_region = image[i:(i + 3), j:(j + 3)]\n",
        "                yield im_region, i, j\n",
        "\n",
        "    def forward(self, input):\n",
        "        '''\n",
        "        Performs a forward pass of the conv layer using the given input.\n",
        "        Returns a 3d numpy array with dimensions (h, w, num_filters).\n",
        "        - input is a 2d or 3d numpy array\n",
        "        '''\n",
        "        self.last_input = input\n",
        "\n",
        "        h, w, _ = input.shape\n",
        "        output = np.zeros((h - 2, w - 2, self.num_filters))\n",
        "\n",
        "        for im_region, i, j in self.iterate_regions(input):\n",
        "            for f in range(self.num_filters):\n",
        "                output[i, j, f] = relu(np.sum(im_region * self.filters[f, :, :, :]))  # ReLU activation\n",
        "\n",
        "        return output\n",
        "    \n",
        "    def backprop(self, d_L_d_out, learn_rate):\n",
        "        d_L_d_filters = np.zeros(self.filters.shape)\n",
        "\n",
        "        # When we apply the conv operator forward, every (i, j) position in the output image was computed by\n",
        "        # a dot product of the filter and a region of the input image. The gradient of the loss with respect to\n",
        "        # the output image has the same shape as the output image. So, we can use the same regions of the input\n",
        "        # image to compute the gradient with respect to the filters.\n",
        "        for im_region, i, j in self.iterate_regions(self.last_input):\n",
        "            for f in range(self.num_filters):\n",
        "                d_L_d_filters[f] += d_L_d_out[i, j, f] * im_region\n",
        "\n",
        "        # Update filters\n",
        "        self.filters -= learn_rate * d_L_d_filters\n",
        "\n",
        "        # Compute gradient with respect to input\n",
        "        d_L_d_input = np.zeros(self.last_input.shape)\n",
        "        for im_region, i, j in self.iterate_regions(d_L_d_out):\n",
        "            for f in range(self.num_filters):\n",
        "                d_L_d_input[i:i+3, j:j+3] += self.filters[f, :, :] * im_region[..., f, None]\n",
        "\n",
        "        return d_L_d_input"
      ]
    },
    {
      "cell_type": "code",
      "execution_count": 26,
      "metadata": {
        "id": "fNL7FA8Y5TD0"
      },
      "outputs": [],
      "source": [
        "class MaxPool2:\n",
        "    '''\n",
        "      A Max Pooling layer using a pool size of 2\n",
        "    '''\n",
        "\n",
        "    def iterate_regions(self, image):\n",
        "        '''\n",
        "        Generates non-overlapping 2x2 image regions to pool over.\n",
        "        - image is a 2d numpy array\n",
        "        '''\n",
        "        h, w, _ = image.shape\n",
        "        new_h = h // 2\n",
        "        new_w = w // 2\n",
        "\n",
        "        for i in range(new_h):\n",
        "            for j in range(new_w):\n",
        "                im_region = image[(i * 2):(i * 2 + 2), (j * 2):(j * 2 + 2)]\n",
        "                yield im_region, i, j\n",
        "\n",
        "    def forward(self, input):\n",
        "        '''\n",
        "        Performs a forward pass of the maxpool layer using the given input.\n",
        "        Returns a 3d numpy array with dimensions (h / 2, w / 2, num_filters).\n",
        "        - input is a 3d numpy array with dimensions (h, w, num_filters)\n",
        "        '''\n",
        "        self.last_input = input\n",
        "\n",
        "        h, w, num_filters = input.shape\n",
        "        output = np.zeros((h // 2, w // 2, num_filters))\n",
        "\n",
        "        for im_region, i, j in self.iterate_regions(input):\n",
        "            output[i, j] = np.amax(im_region, axis=(0, 1))\n",
        "\n",
        "        return output\n",
        "\n",
        "    def backprop(self, d_L_d_out):\n",
        "        # Compute gradient with respect to input\n",
        "        d_L_d_input = np.zeros(self.last_input.shape)\n",
        "        for im_region, i, j in self.iterate_regions(d_L_d_out):\n",
        "            h, w, f = im_region.shape\n",
        "            amax = np.amax(im_region, axis=(0, 1))\n",
        "\n",
        "            for i2 in range(h):\n",
        "                for j2 in range(w):\n",
        "                    for f2 in range(f):\n",
        "                        # If this pixel was the max value, copy the gradient to it.\n",
        "                        if self.last_input[i+i2, j+j2, f2] == amax[f2]:\n",
        "                            d_L_d_input[i+i2, j+j2, f2] = d_L_d_out[i, j, f2]\n",
        "\n",
        "        return d_L_d_input"
      ]
    },
    {
      "cell_type": "code",
      "execution_count": 27,
      "metadata": {
        "id": "qI19Vx5-5TD2"
      },
      "outputs": [],
      "source": [
        "class Softmax:\n",
        "    '''\n",
        "        A standard fully-connected layer with softmax activation.\n",
        "    '''\n",
        "\n",
        "    def __init__(self, input_len, nodes):\n",
        "        self.weights = np.random.randn(input_len, nodes) * np.sqrt(2/input_len)\n",
        "        self.biases = np.zeros(nodes)\n",
        "\n",
        "    def forward(self, input):\n",
        "        '''\n",
        "        Performs a forward pass of the softmax layer using the given input.\n",
        "        Returns a 1d numpy array containing the respective probability values.\n",
        "        - input can be any array with any dimensions.\n",
        "        '''\n",
        "        self.last_input_shape = input.shape\n",
        "\n",
        "        # Flatten the input array\n",
        "        input = input.flatten()\n",
        "        self.last_input = input\n",
        "\n",
        "        input_len, nodes = self.weights.shape\n",
        "\n",
        "        # Calculate the weighted sum of inputs and biases\n",
        "        totals = np.dot(input, self.weights) + self.biases\n",
        "        self.last_totals = totals\n",
        "\n",
        "        # Apply the softmax activation function to get the probabilities\n",
        "        exp = np.exp(totals)\n",
        "        return exp / np.sum(exp, axis=0)\n",
        "\n",
        "    def backprop(self, d_L_d_out, learn_rate):\n",
        "        '''\n",
        "        Performs a backward pass of the softmax layer.\n",
        "        Returns the loss gradient for this layer's inputs.\n",
        "        - d_L_d_out is the loss gradient for this layer's outputs.\n",
        "        - learn_rate is a float.\n",
        "        '''\n",
        "        # We know only 1 element of d_L_d_out will be nonzero\n",
        "        for i, gradient in enumerate(d_L_d_out):\n",
        "            if gradient == 0:\n",
        "                continue\n",
        "\n",
        "            # Calculate the exponential of the last totals\n",
        "            t_exp = np.exp(self.last_totals)\n",
        "\n",
        "            # Calculate the sum of all exponentials\n",
        "            S = np.sum(t_exp)\n",
        "\n",
        "            # Calculate the gradients of out[i] against totals\n",
        "            d_out_d_t = -t_exp[i] * t_exp / (S ** 2)\n",
        "            d_out_d_t[i] = t_exp[i] * (S - t_exp[i]) / (S ** 2)\n",
        "\n",
        "            # Calculate the gradients of totals against weights/biases/input\n",
        "            d_t_d_w = self.last_input\n",
        "            d_t_d_b = 1\n",
        "            d_t_d_inputs = self.weights\n",
        "\n",
        "            # Calculate the gradients of loss against totals\n",
        "            d_L_d_t = gradient * d_out_d_t\n",
        "\n",
        "            # Calculate the gradients of loss against weights/biases/input\n",
        "            d_L_d_w = d_t_d_w[np.newaxis].T @ d_L_d_t[np.newaxis]\n",
        "            d_L_d_b = d_L_d_t * d_t_d_b\n",
        "            d_L_d_inputs = d_t_d_inputs @ d_L_d_t\n",
        "\n",
        "            # Update weights/biases using gradient descent\n",
        "            self.weights -= learn_rate * d_L_d_w\n",
        "            self.biases -= learn_rate * d_L_d_b\n",
        "\n",
        "        return d_L_d_inputs.reshape(self.last_input_shape)"
      ]
    },
    {
      "cell_type": "code",
      "execution_count": 28,
      "metadata": {
        "id": "UxZLVbBS5TD3"
      },
      "outputs": [],
      "source": [
        "def forward(image, label):\n",
        "    # Ensure the image has three dimensions\n",
        "    if len(image.shape) > 3:\n",
        "        image = np.squeeze(image, axis=0)\n",
        "        \n",
        "    out = conv1.forward((image / 255) - 0.5)\n",
        "    out = conv2.forward(out)\n",
        "    out = conv3.forward(out)\n",
        "    out = pool.forward(out)\n",
        "    out = softmax.forward(out)\n",
        "    \n",
        "    # Convert one-hot encoded label to integer\n",
        "    label_int = np.argmax(label)\n",
        "    \n",
        "    loss = -np.log(out[label_int])\n",
        "    acc = 1 if np.argmax(out) == label_int else 0\n",
        "    return out, loss, acc\n",
        "\n",
        "def train(im, label, lr=.001):\n",
        "    out, loss, acc = forward(im, label)\n",
        "    gradient = np.zeros(10)\n",
        "    \n",
        "    # Convert one-hot encoded label to integer\n",
        "    label_int = np.argmax(label)\n",
        "    \n",
        "    gradient[label_int] = -1 / out[label_int]\n",
        "    gradient = softmax.backprop(gradient, lr)\n",
        "    gradient = pool.backprop(gradient)\n",
        "    gradient = conv3.backprop(gradient, lr)\n",
        "    gradient = conv2.backprop(gradient, lr)\n",
        "    gradient = conv1.backprop(gradient, lr)\n",
        "    return loss, acc"
      ]
    },
    {
      "cell_type": "code",
      "execution_count": 29,
      "metadata": {
        "id": "6unUS3xH5TD6"
      },
      "outputs": [],
      "source": [
        "# 8x8x1 -> 6x6x8\n",
        "conv1 = Conv3x3(8, 3, 1)  # First conv layer, input depth is 1\n",
        "\n",
        "# 6x6x8 -> 4x4x16\n",
        "conv2 = Conv3x3(16, 3, 8)  # Second conv layer, input depth is 8 (output of conv1)\n",
        "\n",
        "# 4x4x16 -> 2x2x32\n",
        "conv3 = Conv3x3(32, 3, 16)  # Third conv layer, input depth is 16 (output of conv2)\n",
        "\n",
        "# 2x2x32 -> 1x1x32\n",
        "pool = MaxPool2()\n",
        "\n",
        "# 1x1x32 -> 10\n",
        "softmax = Softmax(1 * 1 * 32, 10)"
      ]
    },
    {
      "cell_type": "code",
      "execution_count": 30,
      "metadata": {
        "colab": {
          "base_uri": "https://localhost:8080/"
        },
        "id": "I17ly-z35TD9",
        "outputId": "b646e3b2-b837-49a3-c4f6-3fb6df059cb0"
      },
      "outputs": [
        {
          "name": "stdout",
          "output_type": "stream",
          "text": [
            "--- Epoch 1 ---\n"
          ]
        },
        {
          "name": "stderr",
          "output_type": "stream",
          "text": [
            "Training: 100%|██████████| 4496/4496 [00:31<00:00, 143.68it/s]\n"
          ]
        },
        {
          "name": "stdout",
          "output_type": "stream",
          "text": [
            "Train Loss: 2.350 | Train Accuracy: 9.45%\n"
          ]
        },
        {
          "name": "stderr",
          "output_type": "stream",
          "text": [
            "Testing: 100%|██████████| 1124/1124 [00:04<00:00, 234.84it/s]\n"
          ]
        },
        {
          "name": "stdout",
          "output_type": "stream",
          "text": [
            "Test Accuracy: 10.59%\n",
            "--- Epoch 2 ---\n"
          ]
        },
        {
          "name": "stderr",
          "output_type": "stream",
          "text": [
            "Training: 100%|██████████| 4496/4496 [00:31<00:00, 143.12it/s]\n"
          ]
        },
        {
          "name": "stdout",
          "output_type": "stream",
          "text": [
            "Train Loss: 2.306 | Train Accuracy: 10.21%\n"
          ]
        },
        {
          "name": "stderr",
          "output_type": "stream",
          "text": [
            "Testing: 100%|██████████| 1124/1124 [00:05<00:00, 223.90it/s]\n"
          ]
        },
        {
          "name": "stdout",
          "output_type": "stream",
          "text": [
            "Test Accuracy: 8.90%\n",
            "--- Epoch 3 ---\n"
          ]
        },
        {
          "name": "stderr",
          "output_type": "stream",
          "text": [
            "Training: 100%|██████████| 4496/4496 [00:31<00:00, 142.71it/s]\n"
          ]
        },
        {
          "name": "stdout",
          "output_type": "stream",
          "text": [
            "Train Loss: 2.306 | Train Accuracy: 9.45%\n"
          ]
        },
        {
          "name": "stderr",
          "output_type": "stream",
          "text": [
            "Testing: 100%|██████████| 1124/1124 [00:04<00:00, 233.29it/s]\n"
          ]
        },
        {
          "name": "stdout",
          "output_type": "stream",
          "text": [
            "Test Accuracy: 10.05%\n",
            "--- Epoch 4 ---\n"
          ]
        },
        {
          "name": "stderr",
          "output_type": "stream",
          "text": [
            "Training: 100%|██████████| 4496/4496 [00:31<00:00, 143.17it/s]\n"
          ]
        },
        {
          "name": "stdout",
          "output_type": "stream",
          "text": [
            "Train Loss: 2.305 | Train Accuracy: 9.81%\n"
          ]
        },
        {
          "name": "stderr",
          "output_type": "stream",
          "text": [
            "Testing: 100%|██████████| 1124/1124 [00:04<00:00, 238.13it/s]\n"
          ]
        },
        {
          "name": "stdout",
          "output_type": "stream",
          "text": [
            "Test Accuracy: 7.03%\n",
            "--- Epoch 5 ---\n"
          ]
        },
        {
          "name": "stderr",
          "output_type": "stream",
          "text": [
            "Training: 100%|██████████| 4496/4496 [00:31<00:00, 143.36it/s]\n"
          ]
        },
        {
          "name": "stdout",
          "output_type": "stream",
          "text": [
            "Train Loss: 2.306 | Train Accuracy: 9.74%\n"
          ]
        },
        {
          "name": "stderr",
          "output_type": "stream",
          "text": [
            "Testing: 100%|██████████| 1124/1124 [00:04<00:00, 236.45it/s]\n"
          ]
        },
        {
          "name": "stdout",
          "output_type": "stream",
          "text": [
            "Test Accuracy: 10.23%\n",
            "--- Epoch 6 ---\n"
          ]
        },
        {
          "name": "stderr",
          "output_type": "stream",
          "text": [
            "Training: 100%|██████████| 4496/4496 [00:31<00:00, 144.16it/s]\n"
          ]
        },
        {
          "name": "stdout",
          "output_type": "stream",
          "text": [
            "Train Loss: 2.306 | Train Accuracy: 9.03%\n"
          ]
        },
        {
          "name": "stderr",
          "output_type": "stream",
          "text": [
            "Testing: 100%|██████████| 1124/1124 [00:04<00:00, 236.28it/s]\n"
          ]
        },
        {
          "name": "stdout",
          "output_type": "stream",
          "text": [
            "Test Accuracy: 6.76%\n",
            "--- Epoch 7 ---\n"
          ]
        },
        {
          "name": "stderr",
          "output_type": "stream",
          "text": [
            "Training: 100%|██████████| 4496/4496 [00:31<00:00, 142.46it/s]\n"
          ]
        },
        {
          "name": "stdout",
          "output_type": "stream",
          "text": [
            "Train Loss: 2.306 | Train Accuracy: 8.96%\n"
          ]
        },
        {
          "name": "stderr",
          "output_type": "stream",
          "text": [
            "Testing: 100%|██████████| 1124/1124 [00:04<00:00, 226.92it/s]\n"
          ]
        },
        {
          "name": "stdout",
          "output_type": "stream",
          "text": [
            "Test Accuracy: 6.67%\n",
            "--- Epoch 8 ---\n"
          ]
        },
        {
          "name": "stderr",
          "output_type": "stream",
          "text": [
            "Training: 100%|██████████| 4496/4496 [00:31<00:00, 144.43it/s]\n"
          ]
        },
        {
          "name": "stdout",
          "output_type": "stream",
          "text": [
            "Train Loss: 2.306 | Train Accuracy: 9.23%\n"
          ]
        },
        {
          "name": "stderr",
          "output_type": "stream",
          "text": [
            "Testing: 100%|██████████| 1124/1124 [00:04<00:00, 233.65it/s]\n"
          ]
        },
        {
          "name": "stdout",
          "output_type": "stream",
          "text": [
            "Test Accuracy: 10.94%\n",
            "--- Epoch 9 ---\n"
          ]
        },
        {
          "name": "stderr",
          "output_type": "stream",
          "text": [
            "Training: 100%|██████████| 4496/4496 [00:31<00:00, 143.32it/s]\n"
          ]
        },
        {
          "name": "stdout",
          "output_type": "stream",
          "text": [
            "Train Loss: 2.305 | Train Accuracy: 9.27%\n"
          ]
        },
        {
          "name": "stderr",
          "output_type": "stream",
          "text": [
            "Testing: 100%|██████████| 1124/1124 [00:04<00:00, 235.26it/s]\n"
          ]
        },
        {
          "name": "stdout",
          "output_type": "stream",
          "text": [
            "Test Accuracy: 8.45%\n",
            "--- Epoch 10 ---\n"
          ]
        },
        {
          "name": "stderr",
          "output_type": "stream",
          "text": [
            "Training: 100%|██████████| 4496/4496 [00:31<00:00, 142.72it/s]\n"
          ]
        },
        {
          "name": "stdout",
          "output_type": "stream",
          "text": [
            "Train Loss: 2.305 | Train Accuracy: 9.85%\n"
          ]
        },
        {
          "name": "stderr",
          "output_type": "stream",
          "text": [
            "Testing: 100%|██████████| 1124/1124 [00:04<00:00, 230.11it/s]"
          ]
        },
        {
          "name": "stdout",
          "output_type": "stream",
          "text": [
            "Test Accuracy: 9.88%\n"
          ]
        },
        {
          "name": "stderr",
          "output_type": "stream",
          "text": [
            "\n"
          ]
        }
      ],
      "source": [
        "from tqdm import tqdm\n",
        "\n",
        "# Initialize lists to store accuracies\n",
        "train_accuracies = []\n",
        "test_accuracies = []\n",
        "\n",
        "for epoch in range(10):\n",
        "    print('--- Epoch %d ---' % (epoch + 1))\n",
        "\n",
        "    # Shuffle the training data\n",
        "    X_train, y_train = shuffle(X_train, y_train)\n",
        "\n",
        "    # Initialize variables for loss and accuracy calculation\n",
        "    train_loss = 0\n",
        "    train_correct = 0\n",
        "\n",
        "    # Iterate over each training sample\n",
        "    for i, (im, label) in tqdm(enumerate(zip(X_train, y_train)), total=len(X_train), desc=\"Training\"):\n",
        "        # Perform a training step on the current sample\n",
        "        l, acc = train(im, label)\n",
        "        train_loss += l\n",
        "        train_correct += acc\n",
        "\n",
        "    # Calculate and print training accuracy and loss after each epoch\n",
        "    avg_train_loss = train_loss / len(X_train)\n",
        "    train_accuracy = train_correct / len(X_train)\n",
        "    print('Train Loss: {:.3f} | Train Accuracy: {:2.2f}%'.format(avg_train_loss, train_accuracy * 100))\n",
        "    train_accuracies.append(train_accuracy)\n",
        "\n",
        "\n",
        "    # Initialize variables for test accuracy calculation\n",
        "    test_correct = 0\n",
        "\n",
        "    # Iterate over each test sample\n",
        "    for i, (im, label) in tqdm(enumerate(zip(X_test, y_test)), total=len(X_test), desc=\"Testing\"):\n",
        "        # Perform a forward pass on the current sample\n",
        "        out, _, acc = forward(im, label)\n",
        "        test_correct += acc\n",
        "\n",
        "    # Calculate and print test accuracy after each epoch\n",
        "    test_accuracy = test_correct / len(X_test)\n",
        "    print('Test Accuracy: {:2.2f}%'.format(test_accuracy * 100))\n",
        "    test_accuracies.append(test_accuracy)\n"
      ]
    },
    {
      "cell_type": "code",
      "execution_count": 33,
      "metadata": {},
      "outputs": [
        {
          "data": {
            "image/png": "[encoded data removed]",
            "text/plain": [
              "<Figure size 1000x500 with 1 Axes>"
            ]
          },
          "metadata": {},
          "output_type": "display_data"
        }
      ],
      "source": [
        "import matplotlib.pyplot as plt\n",
        "\n",
        "# Plot the accuracies\n",
        "plt.figure(figsize=(10, 5))\n",
        "plt.plot(range(1, 11), train_accuracies, label='Train Accuracy')\n",
        "plt.plot(range(1, 11), test_accuracies, label='Test Accuracy')\n",
        "plt.title('Train and Test Accuracy over Epochs')\n",
        "plt.xlabel('Epochs')\n",
        "plt.ylabel('Accuracy')\n",
        "plt.legend()\n",
        "plt.show()"
      ]
    },
    {
      "cell_type": "code",
      "execution_count": 34,
      "metadata": {
        "colab": {
          "base_uri": "https://localhost:8080/"
        },
        "id": "L8Wy1OASRxvN",
        "outputId": "978bfd78-e5b3-4f15-9df7-76dd8c82e960"
      },
      "outputs": [
        {
          "name": "stdout",
          "output_type": "stream",
          "text": [
            "--- Testing the CNN ---\n",
            "Test Loss: 2.310081223006229\n",
            "Test Accuracy: 0.09875444839857651\n"
          ]
        }
      ],
      "source": [
        "# Print a message indicating the start of testing the CNN\n",
        "print('--- Testing the CNN ---')\n",
        "\n",
        "# Initialize variables for loss and accuracy calculation\n",
        "loss = 0\n",
        "num_correct = 0\n",
        "\n",
        "# Iterate over each test sample\n",
        "for im, label in zip(X_test, y_test):\n",
        "    # Perform a forward pass of the CNN and calculate the loss and accuracy\n",
        "    _, l, acc = forward(im, label)\n",
        "    loss += l\n",
        "    num_correct += acc\n",
        "\n",
        "# Calculate the average test loss and accuracy\n",
        "num_tests = len(X_test)\n",
        "print('Test Loss:', loss / num_tests)\n",
        "print('Test Accuracy:', num_correct / num_tests)"
      ]
    },
    {
      "cell_type": "code",
      "execution_count": 35,
      "metadata": {
        "colab": {
          "base_uri": "https://localhost:8080/",
          "height": 1000
        },
        "id": "SWNDpYKvRTQH",
        "outputId": "a9c81741-970e-4cc7-aa9a-555bf54ccac0"
      },
      "outputs": [
        {
          "name": "stdout",
          "output_type": "stream",
          "text": [
            "Classification Report:\n",
            "\n",
            "               precision    recall  f1-score   support\n",
            "\n",
            "           0       0.00      0.00      0.00       108\n",
            "           1       0.00      0.00      0.00       102\n",
            "           2       0.00      0.00      0.00       107\n",
            "           3       0.00      0.00      0.00       118\n",
            "           4       0.00      0.00      0.00       117\n",
            "           5       0.06      0.03      0.04        97\n",
            "           6       0.00      0.00      0.00       123\n",
            "           7       0.10      0.87      0.18       124\n",
            "           8       0.00      0.00      0.00       105\n",
            "           9       0.00      0.00      0.00       123\n",
            "\n",
            "    accuracy                           0.10      1124\n",
            "   macro avg       0.02      0.09      0.02      1124\n",
            "weighted avg       0.02      0.10      0.02      1124\n",
            "\n"
          ]
        },
        {
          "data": {
            "image/png": "[encoded data removed]",
            "text/plain": [
              "<Figure size 1000x1000 with 2 Axes>"
            ]
          },
          "metadata": {},
          "output_type": "display_data"
        }
      ],
      "source": [
        "from sklearn.metrics import classification_report, confusion_matrix\n",
        "\n",
        "# Get predictions\n",
        "y_pred = []\n",
        "for im in X_test:\n",
        "    out, _, _ = forward(im, label=None)\n",
        "    pred_label = np.argmax(out)\n",
        "    y_pred.append(pred_label)\n",
        "\n",
        "y_test = np.argmax(y_test, axis=1)\n",
        "\n",
        "# Generate classification report\n",
        "report = classification_report(y_test, y_pred, zero_division=0)\n",
        "\n",
        "# Print classification report\n",
        "print(\"Classification Report:\\n\\n\", report)\n",
        "\n",
        "# Generate confusion matrix\n",
        "cm = confusion_matrix(y_test, y_pred)\n",
        "\n",
        "# Create a color map for the confusion matrix\n",
        "import matplotlib.pyplot as plt\n",
        "import seaborn as sns\n",
        "\n",
        "sns.set()\n",
        "\n",
        "# Define color map\n",
        "cmap = sns.diverging_palette(220, 10, as_cmap=True)\n",
        "\n",
        "# Create heatmap\n",
        "plt.figure(figsize=(10, 10))\n",
        "sns.heatmap(cm, cmap=cmap, annot=True, fmt=\"g\", square=True)\n",
        "\n",
        "# Set labels and title\n",
        "plt.xlabel(\"Predicted\", fontsize=12)\n",
        "plt.ylabel(\"Actual\", fontsize=12)\n",
        "plt.title(\"Confusion Matrix\", fontsize=14)\n",
        "plt.show()\n",
        "\n"
      ]
    }
  ],
  "metadata": {
    "colab": {
      "provenance": []
    },
    "kernelspec": {
      "display_name": "Python 3",
      "name": "python3"
    },
    "language_info": {
      "codemirror_mode": {
        "name": "ipython",
        "version": 3
      },
      "file_extension": ".py",
      "mimetype": "text/x-python",
      "name": "python",
      "nbconvert_exporter": "python",
      "pygments_lexer": "ipython3",
      "version": "3.10.14"
    }
  },
  "nbformat": 4,
  "nbformat_minor": 0
}
